{
 "cells": [
  {
   "cell_type": "markdown",
   "id": "7729b74c",
   "metadata": {},
   "source": [
    "## Solutions Analyst Technical Screening"
   ]
  },
  {
   "cell_type": "markdown",
   "id": "87218622",
   "metadata": {},
   "source": [
    "This is a one-hour screening, where we will focus 30-45 minutes on assessing the problem sum and spend rest of the 15-20 mins on Q/A.\n",
    "This is a paired-coding session and the expectations of this screening is to understand your ability to communicate while solving a problem. \n",
    "Please let the paired-coder know if you have any questions or doubts. You are also free to use external resources such as google if needed. \n",
    "\n",
    "Good Luck! "
   ]
  },
  {
   "cell_type": "markdown",
   "id": "9bd02658",
   "metadata": {},
   "source": [
    "### Secion 1 \n",
    "\n",
    "This section is just white-boarding. No cells need to be run. "
   ]
  },
  {
   "cell_type": "raw",
   "id": "f9de7bf4",
   "metadata": {},
   "source": [
    "Table Parcels\n",
    "+-------------+---------+\n",
    "| Column Name | Type    |\n",
    "+-------------+---------+\n",
    "| fid         | int     |\n",
    "| parcel_id   | int     |\n",
    "| site_num    | int     |\n",
    "| street_add  | varchar |\n",
    "| site_city   | varchar |\n",
    "| use_code    | varchar |\n",
    "| use_cd_desc | varchar |\n",
    "| geom_wkt    | varchar |\n",
    "+-------------+---------+\n",
    "This table contains information about the parcels : ID, site number, street name, etc. \n",
    "\n",
    "\n",
    "Table Parcel_Area\n",
    "+-------------+---------+\n",
    "| Column Name | Type    |\n",
    "+-------------+---------+\n",
    "| apn_id      | int     |\n",
    "| acres       | varchar |\n",
    "| squar_ft    | varchar |\n",
    "+-------------+---------+\n",
    "This table contains area information about the parcels \n",
    "\n",
    "Write an SQL query to report the id, site number, street address, parcel use code, area in square feet for all commercial parcels. Return the result table in any order."
   ]
  },
  {
   "cell_type": "code",
   "execution_count": null,
   "id": "ec699a6f",
   "metadata": {},
   "outputs": [],
   "source": [
    "\"\"\"\n",
    "#### begin writing code\n",
    "\n",
    "SELECT parcels.parcel_id, \n",
    "       parcels.site_num,\n",
    "       parcels.street_add,\n",
    "       parcels.use_code,\n",
    "       parcel_area.squar_ft\n",
    "      \n",
    "FROM parcels \n",
    "LEFT JOIN parcel_area on parcel_area.apn_id = parcels.parcel_id\n",
    "WHERE parcels.use_code IN ()\n",
    "\n",
    "### end writing code\n",
    "\"\"\""
   ]
  },
  {
   "cell_type": "markdown",
   "id": "ade7092d",
   "metadata": {},
   "source": [
    "### Section 2\n",
    "\n",
    "Download the data from [here](\"https://drive.google.com/file/d/13nER3QooZvX61aT5BR55dFkz4F2gvd6B/view\")\n",
    "\n",
    "The shared folder has three available datasets: \n",
    "- Publicly available Parcel data for Santa Cruz County (Cleaned)\n",
    "- Transit Stops \n",
    "- Cal-Fire hazard layer \n",
    "\n",
    "The datasets are in csv formats. \n",
    "\n",
    "### Problem Statement\n",
    "In the exercise, you will identify commercial parcels in Santa Cruz County, CA that can be converted to residential uses as a method of increasing housing affordability while focusing on two policy objectives concerning : fire risk and transit accessibility. Using the above data, structure an analytical framework that identifies a subset of parcels that might be feasible for redevelopment (affordable housing)? \n"
   ]
  },
  {
   "cell_type": "code",
   "execution_count": null,
   "id": "42c81c91",
   "metadata": {},
   "outputs": [],
   "source": [
    "def filter_parcels():\n",
    "    \"\"\"\n",
    "    function to filter all redevelopable commerical + un-used parcels \n",
    "    \"\"\"\n",
    "    ### begin code ###\n",
    "    \n",
    "    ### end code ###\n",
    "    return filtered_df\n"
   ]
  },
  {
   "cell_type": "code",
   "execution_count": null,
   "id": "8a6fbbd7",
   "metadata": {},
   "outputs": [],
   "source": [
    "def transit_buffer_parcels():\n",
    "    \"\"\"\n",
    "    function to create transit buffer and filter the parcels within the buffer.\n",
    "    \"\"\"\n",
    "    \n",
    "    return transit_fil_df"
   ]
  },
  {
   "cell_type": "code",
   "execution_count": null,
   "id": "bc0f3a39",
   "metadata": {},
   "outputs": [],
   "source": [
    "def fire_buffer_parcels():\n",
    "    \"\"\"\n",
    "    function to filter parcels in elevated fire risk regions\n",
    "    \"\"\"\n",
    "    \n",
    "    return fire_fil_df"
   ]
  },
  {
   "cell_type": "code",
   "execution_count": null,
   "id": "740729bc",
   "metadata": {},
   "outputs": [],
   "source": [
    "def rank_parcels():\n",
    "    \"\"\"\n",
    "    function to rank the parcels feasible for redevelopment.\n",
    "    \"\"\"\n",
    "    \n",
    "    return ranked_parcels_redev_df"
   ]
  },
  {
   "cell_type": "markdown",
   "id": "cb3803b0",
   "metadata": {},
   "source": []
  }
 ],
 "metadata": {
  "kernelspec": {
   "display_name": "Python 3 (ipykernel)",
   "language": "python",
   "name": "python3"
  },
  "language_info": {
   "codemirror_mode": {
    "name": "ipython",
    "version": 3
   },
   "file_extension": ".py",
   "mimetype": "text/x-python",
   "name": "python",
   "nbconvert_exporter": "python",
   "pygments_lexer": "ipython3",
   "version": "3.8.1"
  }
 },
 "nbformat": 4,
 "nbformat_minor": 5
}
