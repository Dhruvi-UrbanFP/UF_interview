{
 "cells": [
  {
   "cell_type": "markdown",
   "id": "7729b74c",
   "metadata": {},
   "source": [
    "## Solutions Analyst Technical Screening"
   ]
  },
  {
   "cell_type": "markdown",
   "id": "87218622",
   "metadata": {},
   "source": [
    "This is a one-hour screening, where we will focus 30-45 minutes on assessing the problem sum and spend rest of the 15-20 mins on Q/A.\n",
    "This is a paired-coding session and the expectations of this screening is to understand your ability to communicate while solving a problem. \n",
    "Please let the paired-coder know if you have any questions or doubts. You are also free to use external resources such as google if needed. \n",
    "\n",
    "Good Luck! "
   ]
  },
  {
   "cell_type": "markdown",
   "id": "9bd02658",
   "metadata": {},
   "source": [
    "### Secion 1 \n",
    "\n",
    "This section is just white-boarding. No cells need to be run. "
   ]
  },
  {
   "cell_type": "markdown",
   "id": "4c14652b",
   "metadata": {},
   "source": [
    "Table Parcels\n",
    "\n",
    "| -- fid : int \\\n",
    "| -- parcel_id : int \\\n",
    "| -- site_num : int \\\n",
    "| -- street_add : string \\\n",
    "| -- site_city : string \\\n",
    "| -- use_code : string \\\n",
    "| -- use_cd_desc : string \\\n",
    "| -- geom_wkt : string \n",
    "\n",
    "This table contains information about the parcels : ID, site number, street name, etc.\n",
    "\n",
    "Table Parcel Area \n",
    "\n",
    "| -- apn_id : int \\\n",
    "| -- acres : string  \\\n",
    "| -- squar_ft : string\n",
    "\n",
    "This table contains area information about the parcels \n",
    "\n",
    "Write an SQL query to report the id, site number, street address, parcel use code, area in square feet for all commercial parcels. Return the result table in any order.\n",
    "\n",
    "\n",
    "\n"
   ]
  },
  {
   "cell_type": "code",
   "execution_count": null,
   "id": "ec699a6f",
   "metadata": {},
   "outputs": [],
   "source": [
    "\"\"\"\n",
    "#### start query code\n",
    "\n",
    "### end query code\n",
    "\"\"\""
   ]
  },
  {
   "cell_type": "markdown",
   "id": "ade7092d",
   "metadata": {},
   "source": [
    "### Section 2\n",
    "\n",
    "Download the data from [here](\"https://drive.google.com/file/d/13nER3QooZvX61aT5BR55dFkz4F2gvd6B/view\") Or \n",
    "can be directly read from the data folder. \n",
    "\n",
    "The shared folder has three available datasets: \n",
    "- Publicly available Parcel data for Santa Cruz County (Cleaned)\n",
    "- Transit Stops \n",
    "- Cal-Fire hazard layer \n",
    "\n",
    "The datasets are in csv formats. \n",
    "\n",
    "### Problem Statement\n",
    "In the exercise, you will identify commercial parcels in Santa Cruz County, CA that can be converted to residential uses as a method of increasing housing affordability while focusing on two policy objectives concerning : fire risk and transit accessibility. Using the above data, structure an analytical framework that identifies a subset of parcels that might be feasible for redevelopment (affordable housing)? \n"
   ]
  },
  {
   "cell_type": "code",
   "execution_count": null,
   "id": "ef6fe8e5",
   "metadata": {},
   "outputs": [],
   "source": [
    "#import libraries\n",
    "import pandas as pd\n",
    "import numpy as np"
   ]
  },
  {
   "cell_type": "code",
   "execution_count": null,
   "id": "7353420c",
   "metadata": {},
   "outputs": [],
   "source": [
    "#read datasets"
   ]
  },
  {
   "cell_type": "code",
   "execution_count": null,
   "id": "4c67ac04",
   "metadata": {},
   "outputs": [],
   "source": [
    "#write code to identify suitable parcels"
   ]
  },
  {
   "cell_type": "markdown",
   "id": "cb3803b0",
   "metadata": {},
   "source": []
  }
 ],
 "metadata": {
  "kernelspec": {
   "display_name": "Python 3 (ipykernel)",
   "language": "python",
   "name": "python3"
  },
  "language_info": {
   "codemirror_mode": {
    "name": "ipython",
    "version": 3
   },
   "file_extension": ".py",
   "mimetype": "text/x-python",
   "name": "python",
   "nbconvert_exporter": "python",
   "pygments_lexer": "ipython3",
   "version": "3.8.1"
  }
 },
 "nbformat": 4,
 "nbformat_minor": 5
}
